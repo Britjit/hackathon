{
  "nbformat": 4,
  "nbformat_minor": 0,
  "metadata": {
    "colab": {
      "provenance": [],
      "authorship_tag": "ABX9TyPLE1MN23oQNko36ArldD31",
      "include_colab_link": true
    },
    "kernelspec": {
      "name": "python3",
      "display_name": "Python 3"
    },
    "language_info": {
      "name": "python"
    }
  },
  "cells": [
    {
      "cell_type": "markdown",
      "metadata": {
        "id": "view-in-github",
        "colab_type": "text"
      },
      "source": [
        "<a href=\"https://colab.research.google.com/github/Britjit/hackathon/blob/main/Hackathon_2025.ipynb\" target=\"_parent\"><img src=\"https://colab.research.google.com/assets/colab-badge.svg\" alt=\"Open In Colab\"/></a>"
      ]
    },
    {
      "cell_type": "code",
      "source": [
        "pip install lz4 zstandard gzip chardet\n"
      ],
      "metadata": {
        "colab": {
          "base_uri": "https://localhost:8080/"
        },
        "id": "2_QMxrqA5k_4",
        "outputId": "5f561125-150c-4719-bdf6-6b8be739156a"
      },
      "execution_count": null,
      "outputs": [
        {
          "output_type": "stream",
          "name": "stdout",
          "text": [
            "Collecting lz4\n",
            "  Downloading lz4-4.4.4-cp312-cp312-manylinux_2_17_x86_64.manylinux2014_x86_64.whl.metadata (3.8 kB)\n",
            "Requirement already satisfied: zstandard in /usr/local/lib/python3.12/dist-packages (0.25.0)\n",
            "\u001b[31mERROR: Could not find a version that satisfies the requirement gzip (from versions: none)\u001b[0m\u001b[31m\n",
            "\u001b[0m\u001b[31mERROR: No matching distribution found for gzip\u001b[0m\u001b[31m\n",
            "\u001b[0m"
          ]
        }
      ]
    },
    {
      "cell_type": "code",
      "source": [
        "pip install lz4 zstandard chardet"
      ],
      "metadata": {
        "colab": {
          "base_uri": "https://localhost:8080/"
        },
        "id": "Eb155bad5zDo",
        "outputId": "9c00aa0c-5add-4dc5-8600-49773a853400"
      },
      "execution_count": null,
      "outputs": [
        {
          "output_type": "stream",
          "name": "stdout",
          "text": [
            "Collecting lz4\n",
            "  Using cached lz4-4.4.4-cp312-cp312-manylinux_2_17_x86_64.manylinux2014_x86_64.whl.metadata (3.8 kB)\n",
            "Requirement already satisfied: zstandard in /usr/local/lib/python3.12/dist-packages (0.25.0)\n",
            "Requirement already satisfied: chardet in /usr/local/lib/python3.12/dist-packages (5.2.0)\n",
            "Downloading lz4-4.4.4-cp312-cp312-manylinux_2_17_x86_64.manylinux2014_x86_64.whl (1.3 MB)\n",
            "\u001b[?25l   \u001b[90m━━━━━━━━━━━━━━━━━━━━━━━━━━━━━━━━━━━━━━━━\u001b[0m \u001b[32m0.0/1.3 MB\u001b[0m \u001b[31m?\u001b[0m eta \u001b[36m-:--:--\u001b[0m\r\u001b[2K   \u001b[90m━━━━━━━━━━━━━━━━━━━━━━━━━━━━━━━━━━━━━━━━\u001b[0m \u001b[32m1.3/1.3 MB\u001b[0m \u001b[31m54.6 MB/s\u001b[0m eta \u001b[36m0:00:00\u001b[0m\n",
            "\u001b[?25hInstalling collected packages: lz4\n",
            "Successfully installed lz4-4.4.4\n"
          ]
        }
      ]
    },
    {
      "cell_type": "code",
      "execution_count": null,
      "metadata": {
        "colab": {
          "base_uri": "https://localhost:8080/"
        },
        "id": "oPVAfDiD4_lp",
        "outputId": "cded82f5-0029-4ab2-d068-494784207990"
      },
      "outputs": [
        {
          "output_type": "stream",
          "name": "stdout",
          "text": [
            "unknown\n",
            "Magic bytes: b'\\x10\\x07\\x00e\\x00\\x08'\n",
            "None\n"
          ]
        }
      ],
      "source": [
        "import os, math, hashlib, gzip\n",
        "#from Crypto.Cipher import AES\n",
        "#from Crypto.Protocol.KDF import PBKDF2\n",
        "\n",
        "def detect_compression(file_path):\n",
        "    with open(file_path, 'rb') as f:\n",
        "        magic = f.read(6)\n",
        "\n",
        "    if magic[:2] == b'\\x1f\\x8b':\n",
        "        return 'gzip'\n",
        "    elif magic.startswith(b'\\x04\\x22\\x4d\\x18'):\n",
        "        return 'lz4'\n",
        "    elif magic.startswith(b'\\x28\\xb5\\x2f\\xfd'):\n",
        "        return 'zstd'\n",
        "    elif magic.startswith(b'PK'):\n",
        "        return 'zip'\n",
        "    elif magic.startswith(b'BZh'):\n",
        "        return 'bzip2'\n",
        "    elif magic.startswith(b'\\xfd7zXZ'):\n",
        "        return 'xz'\n",
        "    else:\n",
        "        return 'unknown'\n",
        "def detect_compression_again(file_path):\n",
        "    with open(file_path, 'rb') as f:\n",
        "        magic = f.read(6)\n",
        "    print(\"Magic bytes:\", magic)\n",
        "\n",
        "\n",
        "def main():\n",
        "    # Test it!\n",
        "    print(detect_compression('hackathon_2025'))\n",
        "    print(detect_compression_again('hackathon_2025'))\n",
        "\n",
        "\n",
        "if __name__ == \"__main__\":\n",
        "    main()\n"
      ]
    },
    {
      "cell_type": "code",
      "source": [],
      "metadata": {
        "id": "Em6Lg_Pj5ie_"
      },
      "execution_count": null,
      "outputs": []
    }
  ]
}